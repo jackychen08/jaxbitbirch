{
 "cells": [
  {
   "cell_type": "code",
   "execution_count": 1,
   "id": "16e1fe00-c667-4cb7-ab92-064b26355ad8",
   "metadata": {},
   "outputs": [],
   "source": [
    "import numpy as np\n",
    "import cProfile\n",
    "import importlib\n",
    "import timeit\n",
    "import time\n",
    "import pstats\n",
    "from io import StringIO\n",
    "import jax.numpy as jnp"
   ]
  },
  {
   "cell_type": "code",
   "execution_count": 2,
   "id": "85aaea52-8d93-488b-99f5-8458253eaf3f",
   "metadata": {},
   "outputs": [],
   "source": [
    "fp_array = np.load(\"data/chembl_34_first5k_ECFP4_2048.npy\")"
   ]
  },
  {
   "cell_type": "markdown",
   "id": "bf081ee2-af5a-49c1-ab47-0f342da20e04",
   "metadata": {},
   "source": [
    "# Run Jax implementation"
   ]
  },
  {
   "cell_type": "code",
   "execution_count": null,
   "id": "6965e907-3d0c-4d8a-95c8-6048cef10ca4",
   "metadata": {},
   "outputs": [],
   "source": []
  },
  {
   "cell_type": "code",
   "execution_count": 3,
   "id": "c6e38939-6530-4797-ab68-d72e86af45f5",
   "metadata": {},
   "outputs": [],
   "source": [
    "import jaxbitbirch\n",
    "from bitbirch import BitBirch\n",
    "import importlib\n",
    "import numpy as np\n",
    "import jaxbitbirch\n",
    "import cProfile\n",
    "import pstats\n",
    "from io import StringIO"
   ]
  },
  {
   "cell_type": "code",
   "execution_count": 4,
   "id": "af4da74e-7c64-40e8-8e42-d8de41eefdc3",
   "metadata": {},
   "outputs": [
    {
     "name": "stderr",
     "output_type": "stream",
     "text": [
      "2024-10-20 18:36:20.048696: W external/xla/xla/service/gpu/nvptx_compiler.cc:930] The NVIDIA driver's CUDA version is 12.5 which is older than the PTX compiler version 12.6.77. Because the driver is older than the PTX compiler version, XLA is disabling parallel compilation, which may slow down compilation. You should update your NVIDIA driver or use the NVIDIA-provided CUDA forward compatibility packages.\n"
     ]
    }
   ],
   "source": [
    "\n",
    "\n",
    "# Define the function that we want to profile\n",
    "def profile_jaxbitbirch(fp_array):\n",
    "    \n",
    "    # Instantiate the JaxBitBirch object\n",
    "    jbb = jaxbitbirch.JaxBitBirch(threshold=0.5, branching_factor=50)\n",
    "    \n",
    "    # Fit the data\n",
    "    jbb.fit(jnp.array(fp_array.astype(np.int32)))\n",
    "    \n",
    "    # Retrieve the centroids\n",
    "    jcent_int32 = jbb.get_centroids()\n",
    "    \n",
    "    return jcent_int32\n",
    "\n",
    "\n",
    "\n",
    "# Set up cProfile to profile the function\n",
    "jprofiler = cProfile.Profile()\n",
    "jprofiler.enable()\n",
    "\n",
    "# Run the profiling on the function and capture the returned centroids\n",
    "jcent_int32 = profile_jaxbitbirch(fp_array)\n",
    "\n",
    "jprofiler.disable()\n",
    "\n",
    "\n",
    "\n"
   ]
  },
  {
   "cell_type": "code",
   "execution_count": 5,
   "id": "b49e6f11-7c9c-4a92-ae48-6a3c2e2a982e",
   "metadata": {},
   "outputs": [
    {
     "ename": "NameError",
     "evalue": "name 's' is not defined",
     "output_type": "error",
     "traceback": [
      "\u001b[0;31m---------------------------------------------------------------------------\u001b[0m",
      "\u001b[0;31mNameError\u001b[0m                                 Traceback (most recent call last)",
      "Cell \u001b[0;32mIn[5], line 4\u001b[0m\n\u001b[1;32m      2\u001b[0m js \u001b[38;5;241m=\u001b[39m StringIO()\n\u001b[1;32m      3\u001b[0m sortby \u001b[38;5;241m=\u001b[39m \u001b[38;5;124m'\u001b[39m\u001b[38;5;124mcumtime\u001b[39m\u001b[38;5;124m'\u001b[39m\n\u001b[0;32m----> 4\u001b[0m jps \u001b[38;5;241m=\u001b[39m pstats\u001b[38;5;241m.\u001b[39mStats(jprofiler, stream\u001b[38;5;241m=\u001b[39m\u001b[43ms\u001b[49m)\u001b[38;5;241m.\u001b[39msort_stats(sortby)\n\u001b[1;32m      6\u001b[0m user_defined_functions \u001b[38;5;241m=\u001b[39m [key \u001b[38;5;28;01mfor\u001b[39;00m key \u001b[38;5;129;01min\u001b[39;00m jps\u001b[38;5;241m.\u001b[39mstats \u001b[38;5;28;01mif\u001b[39;00m key[\u001b[38;5;241m0\u001b[39m]\u001b[38;5;241m.\u001b[39mstartswith(\u001b[38;5;124m'\u001b[39m\u001b[38;5;124mjaxbitbirch\u001b[39m\u001b[38;5;124m'\u001b[39m) \u001b[38;5;129;01mor\u001b[39;00m key[\u001b[38;5;241m0\u001b[39m] \u001b[38;5;241m==\u001b[39m \u001b[38;5;124m'\u001b[39m\u001b[38;5;124m__main__\u001b[39m\u001b[38;5;124m'\u001b[39m]\n\u001b[1;32m      8\u001b[0m \u001b[38;5;66;03m# Now, limit the output to user-defined functions\u001b[39;00m\n\u001b[1;32m      9\u001b[0m \u001b[38;5;66;03m# ps.print_stats(user_defined_functions)\u001b[39;00m\n\u001b[1;32m     10\u001b[0m \u001b[38;5;66;03m# Now, limit the output to user-defined functions\u001b[39;00m\n",
      "\u001b[0;31mNameError\u001b[0m: name 's' is not defined"
     ]
    }
   ],
   "source": [
    "\n",
    "# Now let's capture the profiling output in a more readable format\n",
    "js = StringIO()\n",
    "sortby = 'cumtime'\n",
    "jps = pstats.Stats(jprofiler, stream=s).sort_stats(sortby)\n",
    "\n",
    "user_defined_functions = [key for key in jps.stats if key[0].startswith('jaxbitbirch') or key[0] == '__main__']\n",
    "\n",
    "# Now, limit the output to user-defined functions\n",
    "# ps.print_stats(user_defined_functions)\n",
    "# Now, limit the output to user-defined functions\n",
    "jps.print_stats()\n",
    "\n",
    "output = js.getvalue()\n",
    "output_lines = output.split('\\n')[:60]  # Limit to the first 20 lines\n",
    "print(\"\\n\".join(output_lines))\n"
   ]
  },
  {
   "cell_type": "markdown",
   "id": "04595bde-7174-49c6-9acd-1034161f507d",
   "metadata": {},
   "source": [
    "# Run original BitBirch implementation"
   ]
  },
  {
   "cell_type": "code",
   "execution_count": null,
   "id": "bf47fa01-b3a5-43f2-a234-e6ec53cd61eb",
   "metadata": {},
   "outputs": [],
   "source": [
    "# Define the function to profile BitBirch setup and fitting\n",
    "def profile_bitbirch(fp_array):\n",
    "    # Instantiate the BitBirch object\n",
    "    bb = BitBirch(threshold=0.5, branching_factor=50)\n",
    "    bb.fit(fp_array.astype(np.int32))\n",
    "    cent_int32 = bb.get_centroids()\n",
    "    return cent_int32\n",
    "\n",
    "\n",
    "\n",
    "# Set up cProfile to profile the function\n",
    "profiler = cProfile.Profile()\n",
    "profiler.enable()\n",
    "# Run the profiling on the function and capture the returned centroids\n",
    "cent_int32 = profile_bitbirch(fp_array)\n",
    "profiler.disable()\n",
    "\n",
    "# Now let's capture the profiling output in a more readable format\n",
    "s = StringIO()\n",
    "sortby = 'tottime'\n",
    "ps = pstats.Stats(profiler, stream=s).sort_stats(sortby)\n",
    "user_defined_functions = [key for key in ps.stats if key[0].startswith('bitbirch') or key[0] == '__main__']\n",
    "\n",
    "# Now, limit the output to user-defined functions\n",
    "ps.print_stats(user_defined_functions)\n",
    "output = s.getvalue()\n",
    "output_lines = output.split('\\n')[:60]  # Limit to the first 20 lines\n",
    "print(\"\\n\".join(output_lines))\n"
   ]
  },
  {
   "cell_type": "code",
   "execution_count": null,
   "id": "6d3bf3b1",
   "metadata": {},
   "outputs": [],
   "source": []
  },
  {
   "cell_type": "code",
   "execution_count": null,
   "id": "56c064b9-8caa-49b1-92cf-54677da268ba",
   "metadata": {},
   "outputs": [],
   "source": []
  },
  {
   "cell_type": "code",
   "execution_count": null,
   "id": "f41e947d-b156-4c79-8be6-83ca937325d2",
   "metadata": {},
   "outputs": [],
   "source": []
  }
 ],
 "metadata": {
  "kernelspec": {
   "display_name": "Python 3 (ipykernel)",
   "language": "python",
   "name": "python3"
  },
  "language_info": {
   "codemirror_mode": {
    "name": "ipython",
    "version": 3
   },
   "file_extension": ".py",
   "mimetype": "text/x-python",
   "name": "python",
   "nbconvert_exporter": "python",
   "pygments_lexer": "ipython3",
   "version": "3.13.0"
  }
 },
 "nbformat": 4,
 "nbformat_minor": 5
}
